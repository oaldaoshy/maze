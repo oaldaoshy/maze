{
  "cells": [
    {
      "cell_type": "markdown",
      "metadata": {
        "id": "view-in-github",
        "colab_type": "text"
      },
      "source": [
        "<a href=\"https://colab.research.google.com/github/oaldaoshy/maze/blob/main/maze.ipynb\" target=\"_parent\"><img src=\"https://colab.research.google.com/assets/colab-badge.svg\" alt=\"Open In Colab\"/></a>"
      ]
    },
    {
      "cell_type": "code",
      "execution_count": null,
      "metadata": {
        "id": "xSCh47QBAmMn"
      },
      "outputs": [],
      "source": [
        "import queue"
      ]
    },
    {
      "cell_type": "markdown",
      "metadata": {
        "id": "18sSqzIwAmMo"
      },
      "source": [
        "Creating the Maze"
      ]
    },
    {
      "cell_type": "code",
      "execution_count": null,
      "metadata": {
        "id": "P6qSLPehAmMq"
      },
      "outputs": [],
      "source": [
        "def createMaze():\n",
        "    maze = []\n",
        "    maze.append([\"#\",\"#\", \"#\", \"S\", \"#\", \"#\", \"#\", \"#\", \"#\"])\n",
        "    maze.append([\"#\",\" \", \" \", \" \", \" \", \" \", \" \", \" \", \"#\"])\n",
        "    maze.append([\"#\",\" \", \"#\", \"#\", \"#\", \" \", \"#\", \"#\", \"#\"])\n",
        "    maze.append([\"#\",\" \", \"#\", \" \", \"#\", \" \", \"#\", \" \", \"#\"])\n",
        "    maze.append([\"#\",\" \", \" \", \" \", \"#\", \" \", \"#\", \" \", \"#\"])\n",
        "    maze.append([\"#\",\"#\", \"#\", \" \", \" \", \" \", \"#\", \" \", \"#\"])\n",
        "    maze.append([\"#\",\" \", \"#\", \" \", \"#\", \"#\", \"#\", \" \", \"#\"])\n",
        "    maze.append([\"#\",\" \", \" \", \" \", \" \", \" \", \" \", \" \", \"#\"])\n",
        "    maze.append([\"#\",\"#\", \"#\", \"#\", \"#\", \"#\", \"E\", \"#\", \"#\"])\n",
        "\n",
        "    return maze"
      ]
    },
    {
      "cell_type": "markdown",
      "metadata": {
        "id": "q1gb4iGGAmMq"
      },
      "source": [
        "function that has the maze and draws the path"
      ]
    },
    {
      "cell_type": "code",
      "execution_count": null,
      "metadata": {
        "id": "79aLV2eaAmMq"
      },
      "outputs": [],
      "source": [
        "\n",
        "def printMaze(maze, path=\"\"):\n",
        "    #loop for the maze x is the index of starting point, p is the set of points in path\n",
        "    for x, p in enumerate(maze[0]):\n",
        "        if p == \"S\":\n",
        "            start = x\n",
        "\n",
        "    i = start #starting point and movement in the x direction\n",
        "    j = 0     #movement in the y direction\n",
        "    #empty set to start storing the path\n",
        "    p = set()\n",
        "    for move in path:\n",
        "        #checks path in the horizontal direection\n",
        "        if move == \"L\":\n",
        "            i -= 1\n",
        "\n",
        "        elif move == \"R\":\n",
        "            i += 1\n",
        "        #checks path in the vertical direction\n",
        "        elif move == \"U\":\n",
        "            j -= 1\n",
        "\n",
        "        elif move == \"D\":\n",
        "            j += 1\n",
        "        #adds one argument to the set p so we put j,i between brackets to make one argument\n",
        "        p.add((j, i))\n",
        "    # draws path (by putting + in the registed positions ij) or puts \" \" in the not registered positions\n",
        "    for j, row in enumerate(maze):\n",
        "        for i, col in enumerate(row):\n",
        "            if (j, i) in p:\n",
        "                print(\"+ \", end=\"\")\n",
        "            else:\n",
        "                print(col + \" \", end=\"\")\n",
        "        print()\n",
        "        "
      ]
    },
    {
      "cell_type": "markdown",
      "metadata": {
        "id": "GHYw6LX2AmMr"
      },
      "source": [
        "checks whether we can make this move or not"
      ]
    },
    {
      "cell_type": "code",
      "execution_count": null,
      "metadata": {
        "id": "ch9xMujjAmMs"
      },
      "outputs": [],
      "source": [
        "# by looking for # and avoiding it or the maze boundries\n",
        "def valid(maze, moves):\n",
        "    for x, p in enumerate(maze[0]):\n",
        "        if p == \"S\":\n",
        "            start = x\n",
        "\n",
        "    i = start\n",
        "    j = 0\n",
        "    for move in moves:\n",
        "        if move == \"L\":\n",
        "            i -= 1\n",
        "\n",
        "        elif move == \"R\":\n",
        "            i += 1\n",
        "\n",
        "        elif move == \"U\":\n",
        "            j -= 1\n",
        "\n",
        "        elif move == \"D\":\n",
        "            j += 1\n",
        "        \n",
        "        #if i,j are not within the boundries of the maze\n",
        "        if not(0 <= i < len(maze) and 0 <= j < len(maze)):\n",
        "            return False\n",
        "        #if the algorithm finds a # in the position i,j\n",
        "        elif (maze[j][i] == \"#\"):\n",
        "            return False\n",
        "\n",
        "    return True\n"
      ]
    },
    {
      "cell_type": "markdown",
      "metadata": {
        "id": "IFeQlHaAAmMs"
      },
      "source": [
        "searches for the endpoint and registers the moves taken (path) in moves and pronts them"
      ]
    },
    {
      "cell_type": "code",
      "execution_count": null,
      "metadata": {
        "id": "OnBsDU8yAmMt"
      },
      "outputs": [],
      "source": [
        "\n",
        "def findEnd(maze, moves):\n",
        "    for x, p in enumerate(maze[0]):\n",
        "        if p == \"S\":\n",
        "            start = x\n",
        "\n",
        "    i = start\n",
        "    j = 0\n",
        "    for move in moves:\n",
        "        if move == \"L\":\n",
        "            i -= 1\n",
        "\n",
        "        elif move == \"R\":\n",
        "            i += 1\n",
        " \n",
        "        elif move == \"U\":\n",
        "            j -= 1\n",
        "\n",
        "        elif move == \"D\":\n",
        "            j += 1\n",
        "    #searches for the endpoint (E)\n",
        "    if maze[j][i] == \"E\":\n",
        "        #registers the moves taken and diplays them\n",
        "        print(\"Best Route: \" + moves)\n",
        "        #calls the function that prints the maze along with the moves\n",
        "        printMaze(maze, moves)\n",
        "        return True\n",
        "\n",
        "    return False"
      ]
    },
    {
      "cell_type": "markdown",
      "metadata": {
        "id": "KiXT-kHaAmMu"
      },
      "source": [
        "BFS"
      ]
    },
    {
      "cell_type": "code",
      "execution_count": null,
      "metadata": {
        "id": "QJA4TfP4AmMu",
        "outputId": "b14558e6-6247-4c9f-e938-d44d92126cb5"
      },
      "outputs": [
        {
          "name": "stdout",
          "output_type": "stream",
          "text": [
            "Best Route: DLLDDDRRDDDRRRD\n",
            "# # # S # # # # # \n",
            "# + + +         # \n",
            "# + # # #   # # # \n",
            "# + #   #   #   # \n",
            "# + + + #   #   # \n",
            "# # # +     #   # \n",
            "#   # + # # #   # \n",
            "#     + + + +   # \n",
            "# # # # # # + # # \n"
          ]
        }
      ],
      "source": [
        "#FIFO BFS// creating the queue\n",
        "q = queue.Queue()\n",
        "#putting elements in the queue\n",
        "q.put(\"\")\n",
        "#setting the first route\n",
        "route = \"\"\n",
        "#initializing the maze \n",
        "maze  = createMaze()\n",
        "\n",
        "#we loop given the conditions till we find the endpoint\n",
        "while not findEnd(maze, route):\n",
        "    #Remove and return an item from the queue.(dequeue)\n",
        "    route = q.get()\n",
        "    #we get the last element dequeued and add L,R,U,D\n",
        "    #but on condition that it's a valid move\n",
        "    for j in [\"L\", \"R\", \"U\", \"D\"]:\n",
        "        #Put an item into the queue.\n",
        "        insert = route + j\n",
        "        #we check if valid and then add it to the queue\n",
        "        if valid(maze, insert):\n",
        "            q.put(insert)"
      ]
    }
  ],
  "metadata": {
    "interpreter": {
      "hash": "298b7d1a79a230c54899e91a2545ea335b5c9886e0a53f8572ad4f46aa528735"
    },
    "kernelspec": {
      "display_name": "Python 3.9.9 64-bit (windows store)",
      "language": "python",
      "name": "python3"
    },
    "language_info": {
      "codemirror_mode": {
        "name": "ipython",
        "version": 3
      },
      "file_extension": ".py",
      "mimetype": "text/x-python",
      "name": "python",
      "nbconvert_exporter": "python",
      "pygments_lexer": "ipython3",
      "version": "3.9.9"
    },
    "orig_nbformat": 4,
    "colab": {
      "name": "maze.ipynb",
      "provenance": [],
      "collapsed_sections": [],
      "include_colab_link": true
    }
  },
  "nbformat": 4,
  "nbformat_minor": 0
}